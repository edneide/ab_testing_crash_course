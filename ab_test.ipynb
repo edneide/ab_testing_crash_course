{
 "cells": [
  {
   "cell_type": "markdown",
   "id": "9462d9e7-6575-432c-a91d-048f26d5f4ac",
   "metadata": {},
   "source": [
    " # A/B Testing crashing course"
   ]
  },
  {
   "cell_type": "markdown",
   "id": "eede0a6d-4d31-418d-8248-3fd5111880a3",
   "metadata": {},
   "source": [
    "## Imports "
   ]
  },
  {
   "cell_type": "code",
   "execution_count": 1,
   "id": "7bed3ea4-3766-49d2-aeae-ad6b1027749c",
   "metadata": {},
   "outputs": [],
   "source": [
    "import numpy as np\n",
    "from scipy.stats import t\n",
    "import pandas as pd"
   ]
  },
  {
   "cell_type": "markdown",
   "id": "fb4497fc-80d8-4b31-8038-ccc27deb0371",
   "metadata": {},
   "source": [
    "## Experiment"
   ]
  },
  {
   "cell_type": "code",
   "execution_count": 2,
   "id": "c89ecb6a-b15b-4e5e-bbea-1e663cdda9ec",
   "metadata": {},
   "outputs": [],
   "source": [
    "N_exp = 10000\n",
    "N_con = 10000\n",
    "\n",
    "# Generating click data\n",
    "click_exp = pd.Series("
   ]
  },
  {
   "cell_type": "code",
   "execution_count": 3,
   "id": "4062f5cb-201d-4d27-b17d-5c7a118ede5a",
   "metadata": {},
   "outputs": [],
   "source": [
    "# data of control group with t-distribution\n",
    "X_con = np.random.standard_t(df_con,N_con)\n",
    "# data of experimental group with t-distribution\n",
    "X_exp = np.random.standard_t(df_exp,N_exp)"
   ]
  },
  {
   "cell_type": "code",
   "execution_count": 4,
   "id": "a7cd1457-e776-4d88-999f-14070adb1e09",
   "metadata": {},
   "outputs": [],
   "source": [
    "# mean of control\n",
    "mu_con = np.mean(X_con)\n",
    "# mean of experimental\n",
    "mu_exp = np.mean(X_exp)\n",
    "\n",
    "# variance of control\n",
    "sigma_sqr_con = np.var(X_con)\n",
    "#variance of control\n",
    "sigma_sqr_exp = np.var(X_exp)\n",
    "\n",
    "# pooled variance\n",
    "pooled_variance_t_test = ((N_con-1)*sigma_sqr_con + (N_exp -1) * sigma_sqr_exp)/(N_con + N_exp-2)*(1/N_con + 1/N_exp)"
   ]
  },
  {
   "cell_type": "code",
   "execution_count": 5,
   "id": "962dc66f-f3f1-4a14-91d0-a429ac2a618b",
   "metadata": {},
   "outputs": [
    {
     "name": "stdout",
     "output_type": "stream",
     "text": [
      "T-score:  0.7953276494218185\n",
      "T-critical:  2.024394164575136\n",
      "P_value:  0.43136295216208775\n",
      "Confidence Interval of 2 sample Z-test:  [-0.38  0.87]\n"
     ]
    }
   ],
   "source": [
    "# Standard Error\n",
    "SE = np.sqrt(pooled_variance_t_test)\n",
    "\n",
    "# Test Statistics\n",
    "T = (mu_con-mu_exp)/SE\n",
    "\n",
    "# Critical value for two sided 2 sample t-test\n",
    "t_crit = t.ppf(1-alpha/2, N_con + N_exp - 2)\n",
    "\n",
    "# P-value of the two sided T-test using t-distribution and its symmetric property\n",
    "p_value = t.sf(T, N_con + N_exp - 2)*2\n",
    "\n",
    "# Margin of Error\n",
    "margin_error = t_crit * SE\n",
    "# Confidence Interval\n",
    "CI = [(mu_con-mu_exp) - margin_error, (mu_con-mu_exp) + margin_error]\n",
    "\n",
    "print(\"T-score: \", T)\n",
    "print(\"T-critical: \", t_crit)\n",
    "print(\"P_value: \", p_value)\n",
    "print(\"Confidence Interval of 2 sample Z-test: \", np.round(CI,2))"
   ]
  },
  {
   "cell_type": "code",
   "execution_count": null,
   "id": "07d4518b-7db5-4fee-a250-a6cfc42f9c9b",
   "metadata": {},
   "outputs": [],
   "source": []
  }
 ],
 "metadata": {
  "kernelspec": {
   "display_name": "Python 3 (ipykernel)",
   "language": "python",
   "name": "python3"
  },
  "language_info": {
   "codemirror_mode": {
    "name": "ipython",
    "version": 3
   },
   "file_extension": ".py",
   "mimetype": "text/x-python",
   "name": "python",
   "nbconvert_exporter": "python",
   "pygments_lexer": "ipython3",
   "version": "3.8.19"
  }
 },
 "nbformat": 4,
 "nbformat_minor": 5
}
